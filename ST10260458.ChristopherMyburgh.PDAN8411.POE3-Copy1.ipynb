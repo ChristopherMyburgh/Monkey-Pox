{
 "cells": [
  {
   "cell_type": "markdown",
   "id": "352e4c62",
   "metadata": {},
   "source": [
    "# Machine Learning with Text Data\n",
    "\n",
    "Text processing, from a machine learning perspective, refers to the set of techniques and methodologies used to extract meaningful information and insights from text data. These techniques enable machines to understand and analyze text in a structured and systematic manner and can be summarized as follows:<br>\n",
    "- Text Cleaning\n",
    "- Tokenization\n",
    "- Normalization\n",
    "- Stop Words\n",
    "- Feature Extraction\n",
    "- Text Classification\n",
    "- Sentiment Analysis\n",
    "\n",
    "#### 1. Text Cleaning\n",
    "Text cleaning involves removing these unnecessary elements and transforming the text into a more manageable and consistent format. Firstly, special characters, symbols, and punctuation marks are removed as they often don't contribute significantly to the analysis and can introduce noise. Lowercasing is then applied to standardize the text and ensure that words with the same letters but different cases are treated as the same token. Contractions, such as \"don't\" or \"can't,\" can be expanded to their full forms for consistency. Numerical data present in the text can be removed or replaced with placeholders depending on the analysis requirements. Stop words, which are commonly occurring words with little semantic value, can be removed to reduce noise and improve processing efficiency. Spell checking algorithms can be employed to identify and correct misspelled words, and abbreviations and acronyms can be expanded or normalized for better comprehension. Lastly, any redundant whitespace, including leading/trailing spaces or line breaks, is eliminated to ensure a clean and consistent representation of the text.\n",
    "\n",
    "#### 2. Tokenization\n",
    "Tokenization is fundamental in text processing as it involves breaking down a text document into individual units called tokens. Word tokenization, splits a text into separate words. This task can be challenging due to the presence of punctuation marks, special characters, or compound words. Tokenization algorithms utilize linguistic rules, regular expressions, or machine learning techniques to identify word boundaries accurately. For example, the sentence \"I love Text Mining!\" would be tokenized into the tokens \"I,\" \"love,\" \"Text,\" and \"Mining.\"\n",
    "\n",
    "#### 3. Normalization, Stemming & Lemmatization\n",
    "__Normalization__ is an important step in text processing that aims to transform different variations of words into a standard format, reducing redundancy and improving consistency in the text data. It involves techniques like stemming and lemmatization to handle variations such as plurals, verb tenses, or different word forms.\n",
    "\n",
    "__Stemming__ is a process that reduces words to their root or stem form by removing suffixes and prefixes. The goal is to treat related words as the same token to consolidate information and avoid duplication. For example, stemming would transform the words \"running,\" \"runs,\" and \"ran\" into their common stem \"run.\"\n",
    "\n",
    "__Lemmatization__ goes a step further by reducing words to their base or dictionary form, known as the lemma. This technique takes into account the morphological analysis of words and considers factors like part-of-speech tagging to ensure accurate transformations. For instance, lemmatization would convert the words \"am,\" \"is,\" and \"are\" to the lemma \"be.\"\n",
    "\n",
    "By applying stemming or lemmatization, text normalization helps standardize the text and reduce the vocabulary size, thereby improving computational efficiency. Moreover, it ensures that words with similar meanings or semantic relationships are treated as the same token, enabling better analysis and interpretation of the text.\n",
    "\n",
    "#### 4. Stop Words\n",
    "Stop words are commonly occurring words (e.g., \"the,\" \"and,\" \"is\") that carry little or no meaningful information for text analysis. Removing stop words helps reduce noise and focuses on more important words or phrases in the text.\n",
    "\n",
    "#### 5. Feature Extraction\n",
    "Feature extraction involves converting text data into numerical or vector representations that can be processed by machine learning algorithms. Text data, in its raw form, cannot be directly used for training models as most machine learning algorithms operate on numerical inputs. Feature extraction transforms text into a structured format that retains important semantic and contextual information. Various techniques are utilized for feature extraction in text processing. One common approach is the bag-of-words model, which represents text as a collection of word frequencies or presence indicators. Each document is represented as a vector, with each element corresponding to a unique word in the corpus. The value in each element of the vector can be the frequency of the word in the document or simply a binary indicator (0 or 1) representing its presence or absence. The resulting vectors form a high-dimensional feature space that captures the distribution of words across documents.\n",
    "\n",
    "#### 6. Text Classification\n",
    "Text classification is the task of assigning predefined categories or labels to text documents. It is a supervised learning problem where algorithms learn from labeled training data to classify unseen text documents. Before training the model, the text data undergoes preprocessing steps such as cleaning, tokenization, normalization, and feature extraction, as discussed earlier. The extracted features, such as bag-of-words, TF-IDF representations, or word embeddings, are used as input to the classification algorithm.\n",
    "\n",
    "#### 7. Sentiment Analysis\n",
    "Sentiment analysis aims to determine the sentiment or emotional tone expressed in a piece of text. It can be binary (positive/negative) or multi-class (e.g., positive, negative, neutral). "
   ]
  },
  {
   "cell_type": "markdown",
   "id": "06243a3f",
   "metadata": {},
   "source": [
    "## Analyzing Twitter Data for Insights into the Monkeypox Outbreak\n",
    "\n",
    "The Dataset that I am going to be using can be found from: https://www.kaggle.com/datasets/vencerlanz09/monkeypox-tweets\n",
    "\n",
    "Monkeypox is a viral disease that emerged in May 2022 with an ongoing outbreak that initially occurred in the United Kingdom. The disease is typically found in Central and West Africa, but this outbreak marked the first time it spread widely outside those regions. Monkeypox manifests as a viral infection that presents with fever and non-specific symptoms, followed by the development of a rash with lesions that can last for 2-4 weeks before healing. While some patients experience multiple lesions, others may have only a single lesion, making it challenging to distinguish from other infections. In previous outbreaks, the mortality rate ranged from 1-3% for untreated cases, with more severe cases observed in children and immunocompromised individuals.\n",
    "\n",
    "The data set containing tweets about Monkeypox is appropriate for text processing for several reasons. Firstly, the nature of Twitter as a social media platform can offer valuable insights into public perception, concerns, and discussions surrounding the outbreak. Text processing techniques can be applied to this data set to extract meaningful information, sentiments, and patterns from the tweets.\n",
    "\n",
    "Secondly, text processing allows for efficient organization, analysis, and categorization of the tweet data. The data set likely contains a diverse range of tweets discussing various aspects of Monkeypox, including personal experiences, news updates, scientific information, preventive measures, and public concerns. These tweets provide a rich source of insights into how people are perceiving and reacting to the outbreak.\n",
    "\n",
    "Text processing techniques such as tokenization can break down the tweets into individual words or tokens, enabling the analysis of the most frequently used terms and identifying key topics and themes that emerge from the data. This can provide a deeper understanding of the specific issues, challenges, or misconceptions surrounding the Monkeypox outbreak.\n",
    "\n",
    "Normalization techniques can be applied to standardize the text by removing punctuation, converting to lowercase, and handling abbreviations or slang. This process ensures consistency and improves the accuracy of subsequent analyses. Furthermore, feature extraction methods like TF-IDF or word embeddings can capture the semantic relationships and contextual meanings of words, allowing for a more nuanced understanding of the discussions taking place on Twitter.\n",
    "\n",
    "Sentiment analysis is particularly valuable in this context, as it can determine the overall sentiment expressed in the tweets. By classifying tweets as positive, negative, or neutral, sentiment analysis provides an understanding of public attitudes, concerns, or support related to Monkeypox. This information can be crucial for public health organizations, policymakers, and researchers to gauge public perception, identify areas of misinformation, and tailor communication strategies and intervention efforts accordingly."
   ]
  },
  {
   "cell_type": "markdown",
   "id": "2169afcc",
   "metadata": {},
   "source": [
    "## Purpose of the Analysis\n",
    "\n",
    "The purpose of conducting the analysis on the Monkeypox tweet dataset is to gain valuable insights into the public perception, concerns, and discussions surrounding the ongoing Monkeypox outbreak. By applying various text processing and analysis techniques to the dataset, we aim to extract meaningful information, identify prevailing sentiments, and understand the key topics and themes emerging from the tweets.\n",
    "\n",
    "The analysis aims to address several key questions and objectives. Firstly, we want to identify the most frequently discussed topics and themes in the tweets, such as symptoms, prevention measures, treatment options, or public concerns. By understanding these topics, we can gain insights into the specific areas that require attention and further clarification from health authorities.\n",
    "\n",
    "Secondly, sentiment analysis will play a vital role in determining the overall sentiment expressed in the tweets. By classifying the tweets as positive, negative, or neutral, we can gauge the public's emotional response towards the outbreak. This information can assist in identifying areas where public concerns or misconceptions may exist and help shape communication strategies to address them effectively. By examining the user profiles and engagement metrics, we can gain insights into the key opinion leaders, experts, or organizations that are shaping the conversation around the outbreak. This knowledge can be useful for public health organizations to collaborate with influential individuals or entities for disseminating accurate information and countering misinformation."
   ]
  },
  {
   "cell_type": "markdown",
   "id": "394df705",
   "metadata": {},
   "source": [
    "### Loading the Necessary Libraries"
   ]
  },
  {
   "cell_type": "code",
   "execution_count": 32,
   "id": "63dfc8d6",
   "metadata": {},
   "outputs": [],
   "source": [
    "import plotly.express as px\n",
    "# ^^^ pyforest auto-imports - don't write above this line\n",
    "# Libraries for reading our data\n",
    "import pandas as pd\n",
    "import numpy as np\n",
    "import seaborn as sns\n",
    "import matplotlib.pyplot as plt\n",
    "import missingno as msno\n",
    "from tqdm import tqdm\n",
    "\n",
    "# Libraries to perform data split and model selection\n",
    "from sklearn.model_selection import train_test_split, cross_val_score\n",
    "from sklearn.model_selection import ShuffleSplit, GridSearchCV\n",
    "\n",
    "from sklearn.feature_extraction.text import CountVectorizer\n",
    "from sklearn.linear_model import LogisticRegression\n",
    "from sklearn.feature_extraction.text import ENGLISH_STOP_WORDS\n",
    "from sklearn.feature_extraction.text import TfidfVectorizer\n",
    "from sklearn.pipeline import make_pipeline\n",
    "from sklearn.preprocessing import LabelEncoder\n",
    "from collections import Counter\n",
    "\n",
    "\n",
    "from datetime import datetime\n",
    "import spacy\n",
    "import nltk\n",
    "import re\n",
    "from nltk.tokenize import word_tokenize\n",
    "from nltk.corpus import stopwords\n",
    "from sklearn.model_selection import StratifiedShuffleSplit\n",
    "from sklearn.decomposition import LatentDirichletAllocation\n",
    "from nltk.sentiment import SentimentIntensityAnalyzer\n",
    "from sklearn.metrics import accuracy_score, precision_score, recall_score, f1_score\n",
    "from sklearn.metrics import classification_report\n",
    "\n",
    "\n",
    "import nltk\n",
    "from nltk.stem import PorterStemmer, WordNetLemmatizer\n",
    "from nltk.tokenize import word_tokenize\n",
    "from nltk.corpus import stopwords\n",
    "import spacy\n",
    "\n",
    "import re\n",
    "import nltk\n",
    "from nltk.corpus import stopwords\n",
    "from nltk.stem import PorterStemmer\n",
    "from sklearn.feature_extraction.text import CountVectorizer\n",
    "from sklearn.linear_model import LogisticRegression\n",
    "from sklearn.pipeline import Pipeline\n",
    "\n",
    "import nltk\n",
    "from nltk.stem import PorterStemmer, WordNetLemmatizer\n",
    "from nltk.tokenize import word_tokenize\n",
    "from nltk.corpus import stopwords\n",
    "import spacy\n",
    "\n",
    "from sklearn.preprocessing import FunctionTransformer\n",
    "from nltk.tokenize import word_tokenize"
   ]
  },
  {
   "cell_type": "markdown",
   "id": "c1df208f",
   "metadata": {},
   "source": [
    "### Reading in the Data into a Dataframe\n",
    "\n",
    "The downloaded Data contains muliple .csv files, that one may assume to be separated by dates based off of the file nameing convention. In order for us to properly conduct the analysis, the .csv files will need to be combined into one main DataFrame."
   ]
  },
  {
   "cell_type": "code",
   "execution_count": 2,
   "id": "a4292718",
   "metadata": {},
   "outputs": [
    {
     "name": "stdout",
     "output_type": "stream",
     "text": [
      "|-- mpox-08-19-2022.csv\n",
      "|-- mpox-08-20-2022.csv\n",
      "|-- mpox-08-21-2022.csv\n",
      "|-- mpox-08-22-2022.csv\n",
      "|-- mpox-08-23-2022.csv\n",
      "|-- mpox-08-24-2022.csv\n",
      "|-- mpox-08-25-2022.csv\n",
      "|-- mpox-08-26-2022.csv\n",
      "|-- mpox-08-27-2022.csv\n",
      "|-- mpox-08-28-2022.csv\n",
      "|-- mpox-08-29-2022.csv\n",
      "|-- mpox-08-30-2022.csv\n",
      "|-- mpox-08-31-2022.csv\n",
      "|-- mpox-09-01-2022.csv\n",
      "|-- mpox-09-02-2022.csv\n",
      "|-- mpox-09-03-2022.csv\n"
     ]
    }
   ],
   "source": [
    "# Function that displays the Files listed under a root directory\n",
    "\n",
    "import os\n",
    "\n",
    "def display_directory_structure(root_dir, level=0):\n",
    "    for item in os.listdir(root_dir):\n",
    "        item_path = os.path.join(root_dir, item)\n",
    "        if os.path.isdir(item_path):\n",
    "            print(\"|   \" * level + \"|-- \" + item + \"/\")\n",
    "            display_directory_structure(item_path, level + 1)\n",
    "        else:\n",
    "            print(\"|   \" * level + \"|-- \" + item)\n",
    "\n",
    "root_directory = 'archive'\n",
    "display_directory_structure(root_directory)"
   ]
  },
  {
   "cell_type": "code",
   "execution_count": 3,
   "id": "f6d83fdb",
   "metadata": {},
   "outputs": [
    {
     "name": "stdout",
     "output_type": "stream",
     "text": [
      "DataFrame Shpae:  (95246, 37) \n",
      "\n"
     ]
    },
    {
     "data": {
      "text/html": [
       "<div>\n",
       "<style scoped>\n",
       "    .dataframe tbody tr th:only-of-type {\n",
       "        vertical-align: middle;\n",
       "    }\n",
       "\n",
       "    .dataframe tbody tr th {\n",
       "        vertical-align: top;\n",
       "    }\n",
       "\n",
       "    .dataframe thead th {\n",
       "        text-align: right;\n",
       "    }\n",
       "</style>\n",
       "<table border=\"1\" class=\"dataframe\">\n",
       "  <thead>\n",
       "    <tr style=\"text-align: right;\">\n",
       "      <th></th>\n",
       "      <th>Unnamed: 0</th>\n",
       "      <th>date</th>\n",
       "      <th>time</th>\n",
       "      <th>id</th>\n",
       "      <th>tweet</th>\n",
       "      <th>language</th>\n",
       "      <th>replies_count</th>\n",
       "      <th>retweets_count</th>\n",
       "      <th>likes_count</th>\n",
       "      <th>conversation_id</th>\n",
       "      <th>...</th>\n",
       "      <th>geo</th>\n",
       "      <th>source</th>\n",
       "      <th>user_rt_id</th>\n",
       "      <th>user_rt</th>\n",
       "      <th>retweet_id</th>\n",
       "      <th>reply_to</th>\n",
       "      <th>retweet_date</th>\n",
       "      <th>translate</th>\n",
       "      <th>trans_src</th>\n",
       "      <th>trans_dest</th>\n",
       "    </tr>\n",
       "  </thead>\n",
       "  <tbody>\n",
       "    <tr>\n",
       "      <th>0</th>\n",
       "      <td>0.0</td>\n",
       "      <td>2022-08-19</td>\n",
       "      <td>21:47:43</td>\n",
       "      <td>1560624556175343617</td>\n",
       "      <td>@ArtValley818_ Is his spirit animal monkey pox?</td>\n",
       "      <td>en</td>\n",
       "      <td>0</td>\n",
       "      <td>0</td>\n",
       "      <td>0</td>\n",
       "      <td>NaN</td>\n",
       "      <td>...</td>\n",
       "      <td>NaN</td>\n",
       "      <td>NaN</td>\n",
       "      <td>NaN</td>\n",
       "      <td>NaN</td>\n",
       "      <td>NaN</td>\n",
       "      <td>NaN</td>\n",
       "      <td>NaN</td>\n",
       "      <td>NaN</td>\n",
       "      <td>NaN</td>\n",
       "      <td>NaN</td>\n",
       "    </tr>\n",
       "    <tr>\n",
       "      <th>1</th>\n",
       "      <td>1.0</td>\n",
       "      <td>2022-08-19</td>\n",
       "      <td>21:47:38</td>\n",
       "      <td>1560624535283589123</td>\n",
       "      <td>@Sara_inquirer Hindsight is 20/20. And can pro...</td>\n",
       "      <td>en</td>\n",
       "      <td>0</td>\n",
       "      <td>0</td>\n",
       "      <td>0</td>\n",
       "      <td>NaN</td>\n",
       "      <td>...</td>\n",
       "      <td>NaN</td>\n",
       "      <td>NaN</td>\n",
       "      <td>NaN</td>\n",
       "      <td>NaN</td>\n",
       "      <td>NaN</td>\n",
       "      <td>NaN</td>\n",
       "      <td>NaN</td>\n",
       "      <td>NaN</td>\n",
       "      <td>NaN</td>\n",
       "      <td>NaN</td>\n",
       "    </tr>\n",
       "    <tr>\n",
       "      <th>2</th>\n",
       "      <td>2.0</td>\n",
       "      <td>2022-08-19</td>\n",
       "      <td>21:47:38</td>\n",
       "      <td>1560624532838182913</td>\n",
       "      <td>@OHAOregon Any time a child gets monkey pox I ...</td>\n",
       "      <td>en</td>\n",
       "      <td>0</td>\n",
       "      <td>0</td>\n",
       "      <td>0</td>\n",
       "      <td>NaN</td>\n",
       "      <td>...</td>\n",
       "      <td>NaN</td>\n",
       "      <td>NaN</td>\n",
       "      <td>NaN</td>\n",
       "      <td>NaN</td>\n",
       "      <td>NaN</td>\n",
       "      <td>NaN</td>\n",
       "      <td>NaN</td>\n",
       "      <td>NaN</td>\n",
       "      <td>NaN</td>\n",
       "      <td>NaN</td>\n",
       "    </tr>\n",
       "  </tbody>\n",
       "</table>\n",
       "<p>3 rows × 37 columns</p>\n",
       "</div>"
      ],
      "text/plain": [
       "   Unnamed: 0        date      time                   id  \\\n",
       "0         0.0  2022-08-19  21:47:43  1560624556175343617   \n",
       "1         1.0  2022-08-19  21:47:38  1560624535283589123   \n",
       "2         2.0  2022-08-19  21:47:38  1560624532838182913   \n",
       "\n",
       "                                               tweet language  replies_count  \\\n",
       "0    @ArtValley818_ Is his spirit animal monkey pox?       en              0   \n",
       "1  @Sara_inquirer Hindsight is 20/20. And can pro...       en              0   \n",
       "2  @OHAOregon Any time a child gets monkey pox I ...       en              0   \n",
       "\n",
       "   retweets_count  likes_count  conversation_id  ... geo  source  user_rt_id  \\\n",
       "0               0            0              NaN  ... NaN     NaN         NaN   \n",
       "1               0            0              NaN  ... NaN     NaN         NaN   \n",
       "2               0            0              NaN  ... NaN     NaN         NaN   \n",
       "\n",
       "  user_rt retweet_id reply_to retweet_date translate trans_src trans_dest  \n",
       "0     NaN        NaN      NaN          NaN       NaN       NaN        NaN  \n",
       "1     NaN        NaN      NaN          NaN       NaN       NaN        NaN  \n",
       "2     NaN        NaN      NaN          NaN       NaN       NaN        NaN  \n",
       "\n",
       "[3 rows x 37 columns]"
      ]
     },
     "metadata": {},
     "output_type": "display_data"
    },
    {
     "name": "stdout",
     "output_type": "stream",
     "text": [
      "\n",
      "\n"
     ]
    },
    {
     "data": {
      "text/plain": [
       "Index(['Unnamed: 0', 'date', 'time', 'id', 'tweet', 'language',\n",
       "       'replies_count', 'retweets_count', 'likes_count', 'conversation_id',\n",
       "       'created_at', 'timezone', 'user_id', 'username', 'name', 'place',\n",
       "       'mentions', 'urls', 'photos', 'hashtags', 'cashtags', 'link', 'retweet',\n",
       "       'quote_url', 'video', 'thumbnail', 'near', 'geo', 'source',\n",
       "       'user_rt_id', 'user_rt', 'retweet_id', 'reply_to', 'retweet_date',\n",
       "       'translate', 'trans_src', 'trans_dest'],\n",
       "      dtype='object')"
      ]
     },
     "metadata": {},
     "output_type": "display_data"
    }
   ],
   "source": [
    "# Function that Merges the .csv files into one main DataFrame\n",
    "\n",
    "def merge_csv_files(root_dir):\n",
    "    dataframes = []  # List to store individual DataFrames\n",
    "\n",
    "    for item in os.listdir(root_dir):\n",
    "        item_path = os.path.join(root_dir, item)\n",
    "        if os.path.isfile(item_path) and item.endswith(\".csv\"):\n",
    "            df = pd.read_csv(item_path)  # Read the CSV file into a DataFrame\n",
    "            dataframes.append(df)  # Append the DataFrame to the list\n",
    "\n",
    "    merged_df = pd.concat(dataframes, ignore_index=True)  # Merge all DataFrames into one\n",
    "\n",
    "    return merged_df\n",
    "\n",
    "root_directory = 'archive'\n",
    "merge_df = merge_csv_files(root_directory)\n",
    "\n",
    "# displaying the shape and output of our dataframe\n",
    "print('DataFrame Shpae: ', merge_df.shape, '\\n')\n",
    "display(merge_df.head(3))\n",
    "print('\\n')\n",
    "display(merge_df.columns)"
   ]
  },
  {
   "cell_type": "markdown",
   "id": "bd21fee3",
   "metadata": {},
   "source": [
    "We can see that our newly created dataframe has 95,246 observations with 37 features.\n",
    "\n",
    "As we will be conducting analysius based off of the tweets, we can get rid of unnecessary features that do not align with our purpose of this task."
   ]
  },
  {
   "cell_type": "code",
   "execution_count": 4,
   "id": "4f632144",
   "metadata": {},
   "outputs": [
    {
     "data": {
      "text/html": [
       "<div>\n",
       "<style scoped>\n",
       "    .dataframe tbody tr th:only-of-type {\n",
       "        vertical-align: middle;\n",
       "    }\n",
       "\n",
       "    .dataframe tbody tr th {\n",
       "        vertical-align: top;\n",
       "    }\n",
       "\n",
       "    .dataframe thead th {\n",
       "        text-align: right;\n",
       "    }\n",
       "</style>\n",
       "<table border=\"1\" class=\"dataframe\">\n",
       "  <thead>\n",
       "    <tr style=\"text-align: right;\">\n",
       "      <th></th>\n",
       "      <th>date</th>\n",
       "      <th>tweet</th>\n",
       "      <th>language</th>\n",
       "      <th>replies_count</th>\n",
       "      <th>retweets_count</th>\n",
       "      <th>likes_count</th>\n",
       "    </tr>\n",
       "  </thead>\n",
       "  <tbody>\n",
       "    <tr>\n",
       "      <th>0</th>\n",
       "      <td>2022-08-19</td>\n",
       "      <td>@ArtValley818_ Is his spirit animal monkey pox?</td>\n",
       "      <td>en</td>\n",
       "      <td>0</td>\n",
       "      <td>0</td>\n",
       "      <td>0</td>\n",
       "    </tr>\n",
       "    <tr>\n",
       "      <th>1</th>\n",
       "      <td>2022-08-19</td>\n",
       "      <td>@Sara_inquirer Hindsight is 20/20. And can pro...</td>\n",
       "      <td>en</td>\n",
       "      <td>0</td>\n",
       "      <td>0</td>\n",
       "      <td>0</td>\n",
       "    </tr>\n",
       "    <tr>\n",
       "      <th>2</th>\n",
       "      <td>2022-08-19</td>\n",
       "      <td>@OHAOregon Any time a child gets monkey pox I ...</td>\n",
       "      <td>en</td>\n",
       "      <td>0</td>\n",
       "      <td>0</td>\n",
       "      <td>0</td>\n",
       "    </tr>\n",
       "  </tbody>\n",
       "</table>\n",
       "</div>"
      ],
      "text/plain": [
       "         date                                              tweet language  \\\n",
       "0  2022-08-19    @ArtValley818_ Is his spirit animal monkey pox?       en   \n",
       "1  2022-08-19  @Sara_inquirer Hindsight is 20/20. And can pro...       en   \n",
       "2  2022-08-19  @OHAOregon Any time a child gets monkey pox I ...       en   \n",
       "\n",
       "   replies_count  retweets_count  likes_count  \n",
       "0              0               0            0  \n",
       "1              0               0            0  \n",
       "2              0               0            0  "
      ]
     },
     "execution_count": 4,
     "metadata": {},
     "output_type": "execute_result"
    }
   ],
   "source": [
    "# creating a new dataframe that keeps only the important features for Text Analysis.\n",
    "\n",
    "df = merge_df[['date', 'tweet', 'language', 'replies_count', 'retweets_count', 'likes_count']]\n",
    "df.head(3)"
   ]
  },
  {
   "cell_type": "code",
   "execution_count": 5,
   "id": "51cc5f87",
   "metadata": {},
   "outputs": [
    {
     "data": {
      "image/png": "[encoded data removed]",
      "text/plain": [
       "<Figure size 1800x720 with 2 Axes>"
      ]
     },
     "metadata": {
      "needs_background": "light"
     },
     "output_type": "display_data"
    }
   ],
   "source": [
    "# Create a graphical representation of the missing data points\n",
    "missing_values = msno.matrix(df)\n",
    "missing_values\n",
    "plt.title('Graphical representation of missing values', fontsize = 25)\n",
    "plt.show()"
   ]
  },
  {
   "cell_type": "markdown",
   "id": "62660698",
   "metadata": {},
   "source": [
    "From the above matrix, we can see that our dataset does not contain any missing values"
   ]
  },
  {
   "cell_type": "markdown",
   "id": "4e03798b",
   "metadata": {},
   "source": [
    "### Data Prepocessing\n",
    "\n",
    "In order for us to continue with the Analysis, we need to ensure that our data does not contain any noise or reduncy. Special Characters, symbols and punctuation marks will be removed. we will also be removing any strings that contain multiple white spacing as well as removing any string that contains a single letter. I will also be merginging 'Date' and 'time' columns to create a single 'datetime' feature.\n",
    "\n",
    "I will be using the regexp-based tokenization library to implement these changes."
   ]
  },
  {
   "cell_type": "code",
   "execution_count": 6,
   "id": "8357242c",
   "metadata": {},
   "outputs": [
    {
     "data": {
      "text/html": [
       "<div>\n",
       "<style scoped>\n",
       "    .dataframe tbody tr th:only-of-type {\n",
       "        vertical-align: middle;\n",
       "    }\n",
       "\n",
       "    .dataframe tbody tr th {\n",
       "        vertical-align: top;\n",
       "    }\n",
       "\n",
       "    .dataframe thead th {\n",
       "        text-align: right;\n",
       "    }\n",
       "</style>\n",
       "<table border=\"1\" class=\"dataframe\">\n",
       "  <thead>\n",
       "    <tr style=\"text-align: right;\">\n",
       "      <th></th>\n",
       "      <th>date</th>\n",
       "      <th>tweet</th>\n",
       "      <th>language</th>\n",
       "      <th>replies_count</th>\n",
       "      <th>retweets_count</th>\n",
       "      <th>likes_count</th>\n",
       "      <th>Preprocessed Tweet</th>\n",
       "    </tr>\n",
       "  </thead>\n",
       "  <tbody>\n",
       "    <tr>\n",
       "      <th>0</th>\n",
       "      <td>2022-08-19</td>\n",
       "      <td>@ArtValley818_ Is his spirit animal monkey pox?</td>\n",
       "      <td>en</td>\n",
       "      <td>0</td>\n",
       "      <td>0</td>\n",
       "      <td>0</td>\n",
       "      <td>is his spirit animal monkey pox</td>\n",
       "    </tr>\n",
       "    <tr>\n",
       "      <th>1</th>\n",
       "      <td>2022-08-19</td>\n",
       "      <td>@Sara_inquirer Hindsight is 20/20. And can pro...</td>\n",
       "      <td>en</td>\n",
       "      <td>0</td>\n",
       "      <td>0</td>\n",
       "      <td>0</td>\n",
       "      <td>hindsight is and can probably see that monkey ...</td>\n",
       "    </tr>\n",
       "    <tr>\n",
       "      <th>2</th>\n",
       "      <td>2022-08-19</td>\n",
       "      <td>@OHAOregon Any time a child gets monkey pox I ...</td>\n",
       "      <td>en</td>\n",
       "      <td>0</td>\n",
       "      <td>0</td>\n",
       "      <td>0</td>\n",
       "      <td>any time a child gets monkey pox i expect a ch...</td>\n",
       "    </tr>\n",
       "  </tbody>\n",
       "</table>\n",
       "</div>"
      ],
      "text/plain": [
       "         date                                              tweet language  \\\n",
       "0  2022-08-19    @ArtValley818_ Is his spirit animal monkey pox?       en   \n",
       "1  2022-08-19  @Sara_inquirer Hindsight is 20/20. And can pro...       en   \n",
       "2  2022-08-19  @OHAOregon Any time a child gets monkey pox I ...       en   \n",
       "\n",
       "   replies_count  retweets_count  likes_count  \\\n",
       "0              0               0            0   \n",
       "1              0               0            0   \n",
       "2              0               0            0   \n",
       "\n",
       "                                  Preprocessed Tweet  \n",
       "0                    is his spirit animal monkey pox  \n",
       "1  hindsight is and can probably see that monkey ...  \n",
       "2  any time a child gets monkey pox i expect a ch...  "
      ]
     },
     "execution_count": 6,
     "metadata": {},
     "output_type": "execute_result"
    }
   ],
   "source": [
    "import string\n",
    "import re\n",
    "import pandas as pd\n",
    "\n",
    "def preprocess_tweet(tweet):\n",
    "    tweet = str(tweet).lower()\n",
    "    tweet = re.sub('\\[.*?\\]', '', tweet)\n",
    "    tweet = re.sub('https?://\\S+|www\\.\\S+', '', tweet)\n",
    "    tweet = re.sub('<.*?>+', '', tweet)\n",
    "    tweet = re.sub('(@[A-Za-z0-9_]+)', '', tweet)\n",
    "    tweet = re.sub('[%s]' % re.escape(string.punctuation), '', tweet)\n",
    "    tweet = re.sub('\\n', '', tweet)\n",
    "    tweet = re.sub('\\w*\\d\\w*', '', tweet)\n",
    "    tweet = tweet.split()\n",
    "    tweet = ' '.join(tweet)\n",
    "    return tweet\n",
    "\n",
    "def preprocess_tweets(df):\n",
    "    data = df.copy()\n",
    "\n",
    "    # Apply preprocess_tweet function to the 'tweet' column\n",
    "    data['Preprocessed Tweet'] = data['tweet'].apply(preprocess_tweet)\n",
    "\n",
    "    return data\n",
    "# Example usage\n",
    "data = preprocess_tweets(df)\n",
    "\n",
    "data.head(3)"
   ]
  },
  {
   "cell_type": "code",
   "execution_count": 7,
   "id": "e8faf152",
   "metadata": {},
   "outputs": [
    {
     "name": "stderr",
     "output_type": "stream",
     "text": [
      "100%|███████████████████████████████████████████████████████████████████████| 95246/95246 [00:00<00:00, 4137398.80it/s]\n"
     ]
    }
   ],
   "source": [
    "def getPolarity(tweet):\n",
    "    analyzer = SentimentIntensityAnalyzer()\n",
    "    sentiment_scores = analyzer.polarity_scores(tweet)\n",
    "    polarity = sentiment_scores['compound']\n",
    "    return polarity\n",
    "\n",
    "# Apply the getPolarity function with tqdm\n",
    "data['Polarity'] = list(tqdm(data['Preprocessed Tweet'].apply(getPolarity)))"
   ]
  },
  {
   "cell_type": "code",
   "execution_count": 8,
   "id": "8c963e38",
   "metadata": {},
   "outputs": [
    {
     "data": {
      "image/png": "[encoded data removed]",
      "text/plain": [
       "<Figure size 432x288 with 1 Axes>"
      ]
     },
     "metadata": {
      "needs_background": "light"
     },
     "output_type": "display_data"
    }
   ],
   "source": [
    "# Create a histogram of polarity\n",
    "plt.hist(data['Polarity'], bins=30, edgecolor='black')\n",
    "\n",
    "# Set the title and labels\n",
    "plt.title('Distribution of Polarity Scores')\n",
    "plt.xlabel('Polarity')\n",
    "plt.ylabel('Frequency')\n",
    "\n",
    "# Display the histogram\n",
    "plt.show()"
   ]
  },
  {
   "cell_type": "code",
   "execution_count": 9,
   "id": "bf0a71c6",
   "metadata": {},
   "outputs": [],
   "source": [
    "# Rename polarity scores\n",
    "data['Sentiment'] = np.where(data['Polarity'] < 0, 'Negative', np.where(data['Polarity'] > 0, 'Positive', 'Neutral'))"
   ]
  },
  {
   "cell_type": "code",
   "execution_count": 10,
   "id": "19dc5e1e",
   "metadata": {},
   "outputs": [
    {
     "data": {
      "image/png": "[encoded data removed]",
      "text/plain": [
       "<Figure size 576x576 with 1 Axes>"
      ]
     },
     "metadata": {},
     "output_type": "display_data"
    }
   ],
   "source": [
    "sentiment_counts = data['Sentiment'].value_counts()\n",
    "labels = sentiment_counts.index\n",
    "sizes = sentiment_counts.values\n",
    "\n",
    "# Create pie chart\n",
    "fig, ax = plt.subplots(figsize=(8, 8))\n",
    "ax.pie(sizes, labels=labels, autopct='%1.1f%%', startangle=90, textprops={'fontsize': 14})\n",
    "ax.axis('equal')  # Equal aspect ratio ensures that pie is drawn as a circle\n",
    "ax.set_title('Pie Chart for distribution of Tweets', fontsize=16)\n",
    "\n",
    "ax.legend(labels, loc='best', fontsize='large')\n",
    "plt.show()"
   ]
  },
  {
   "cell_type": "code",
   "execution_count": 11,
   "id": "dbe2fad8",
   "metadata": {},
   "outputs": [
    {
     "data": {
      "image/png": "[encoded data removed]",
      "text/plain": [
       "<Figure size 576x432 with 1 Axes>"
      ]
     },
     "metadata": {
      "needs_background": "light"
     },
     "output_type": "display_data"
    }
   ],
   "source": [
    "data['text_len'] = data['Preprocessed Tweet'].astype(str).apply(len)\n",
    "\n",
    "fig,axes = plt.subplots(figsize=(8,6))\n",
    "data['text_len'].plot(bins = 40, kind = 'hist',title = 'Distribution by length of tweets', fontsize=13)\n",
    "plt.show()"
   ]
  },
  {
   "cell_type": "code",
   "execution_count": 12,
   "id": "c662d986",
   "metadata": {},
   "outputs": [
    {
     "data": {
      "image/png": "[encoded data removed]",
      "text/plain": [
       "<Figure size 720x432 with 1 Axes>"
      ]
     },
     "metadata": {
      "needs_background": "light"
     },
     "output_type": "display_data"
    }
   ],
   "source": [
    "negative = data[data['Sentiment'] == 'Negative']['text_len']\n",
    "\n",
    "plt.figure(figsize=(10, 6))\n",
    "plt.hist(negative, bins=20, color='red', alpha=0.7)\n",
    "plt.xlabel('Text Length')\n",
    "plt.ylabel('Frequency')\n",
    "plt.title('Distribution of Text Length for Negative Sentiment', fontsize=16)\n",
    "plt.show()"
   ]
  },
  {
   "cell_type": "code",
   "execution_count": 13,
   "id": "df848422",
   "metadata": {},
   "outputs": [
    {
     "data": {
      "image/png": "[encoded data removed]",
      "text/plain": [
       "<Figure size 720x432 with 1 Axes>"
      ]
     },
     "metadata": {
      "needs_background": "light"
     },
     "output_type": "display_data"
    }
   ],
   "source": [
    "neutral = data[data['Sentiment'] == 'Neutral']['text_len']\n",
    "\n",
    "plt.figure(figsize=(10, 6))\n",
    "plt.hist(neutral, bins=20, color='blue', alpha=0.7)\n",
    "plt.xlabel('Text Length')\n",
    "plt.ylabel('Frequency')\n",
    "plt.title('Distribution of Text Length for Neutral Sentiment', fontsize=16)\n",
    "plt.show()"
   ]
  },
  {
   "cell_type": "code",
   "execution_count": 14,
   "id": "63ee8ef4",
   "metadata": {},
   "outputs": [
    {
     "data": {
      "image/png": "[encoded data removed]",
      "text/plain": [
       "<Figure size 720x432 with 1 Axes>"
      ]
     },
     "metadata": {
      "needs_background": "light"
     },
     "output_type": "display_data"
    }
   ],
   "source": [
    "positive = data[data['Sentiment'] == 'Positive']['text_len']\n",
    "\n",
    "plt.figure(figsize=(10, 6))\n",
    "plt.hist(positive, bins=20, color='green', alpha=0.7)\n",
    "plt.xlabel('Text Length')\n",
    "plt.ylabel('Frequency')\n",
    "plt.title('Distribution of Text Length for Positive Sentiment', fontsize=16)\n",
    "plt.show()"
   ]
  },
  {
   "cell_type": "code",
   "execution_count": 15,
   "id": "4cd63818",
   "metadata": {},
   "outputs": [
    {
     "data": {
      "image/png": "[encoded data removed]",
      "text/plain": [
       "<Figure size 720x432 with 1 Axes>"
      ]
     },
     "metadata": {
      "needs_background": "light"
     },
     "output_type": "display_data"
    }
   ],
   "source": [
    "# Combine all preprocessed tweets into a single list of words\n",
    "words = [word for tweet in data['Preprocessed Tweet'] for word in tweet.split()]\n",
    "\n",
    "# Get the most common words and their frequencies\n",
    "top_words = Counter(words).most_common(20)\n",
    "\n",
    "# Extract the words and frequencies\n",
    "word_labels = [word for word, frequency in top_words]\n",
    "frequencies = [frequency for word, frequency in top_words]\n",
    "\n",
    "# Create a bar plot\n",
    "plt.figure(figsize=(10, 6))\n",
    "plt.bar(word_labels, frequencies, color='blue')\n",
    "\n",
    "# Customize the plot\n",
    "plt.title('Top 20 Words in Preprocessed Tweet')\n",
    "plt.xlabel('Words')\n",
    "plt.ylabel('Frequency')\n",
    "plt.xticks(rotation=45, ha='right')\n",
    "plt.tight_layout()\n",
    "\n",
    "# Display the plot\n",
    "plt.show()"
   ]
  },
  {
   "cell_type": "markdown",
   "id": "44119398",
   "metadata": {},
   "source": [
    "## Building a model to Perform Sentiment Analysis on Monkey Pox Tweets\n",
    "\n",
    "### Splitting the Data in Predictor and Target variables\n",
    "\n",
    "For this task, we are merely concerned about the Tweet and its corresponding Sentiment. A such, I will be splitting my data such that the tweet will be my predictor variable and the Sentiment will be my subsequent target variable."
   ]
  },
  {
   "cell_type": "code",
   "execution_count": 16,
   "id": "29cf115f",
   "metadata": {},
   "outputs": [],
   "source": [
    "X = data['tweet']\n",
    "y = data['Sentiment']"
   ]
  },
  {
   "cell_type": "code",
   "execution_count": 17,
   "id": "09ee046b",
   "metadata": {},
   "outputs": [
    {
     "data": {
      "text/plain": [
       "'@ArtValley818_ Is his spirit animal monkey pox?'"
      ]
     },
     "execution_count": 17,
     "metadata": {},
     "output_type": "execute_result"
    }
   ],
   "source": [
    "X[0]"
   ]
  },
  {
   "cell_type": "code",
   "execution_count": 18,
   "id": "634a6cc8",
   "metadata": {},
   "outputs": [
    {
     "data": {
      "text/plain": [
       "array(['Positive', 'Neutral', 'Negative'], dtype=object)"
      ]
     },
     "execution_count": 18,
     "metadata": {},
     "output_type": "execute_result"
    }
   ],
   "source": [
    "y.unique()"
   ]
  },
  {
   "cell_type": "code",
   "execution_count": 19,
   "id": "c00df1d9",
   "metadata": {},
   "outputs": [],
   "source": [
    "# Create an instance of LabelEncoder\n",
    "label_encoder = LabelEncoder()\n",
    "\n",
    "# Encode the target variable\n",
    "y = label_encoder.fit_transform(y)"
   ]
  },
  {
   "cell_type": "code",
   "execution_count": 20,
   "id": "0b3c6faf",
   "metadata": {},
   "outputs": [
    {
     "name": "stdout",
     "output_type": "stream",
     "text": [
      "@ArtValley818_ Is his spirit animal monkey pox?\n",
      "2\n"
     ]
    }
   ],
   "source": [
    "print(X[0])\n",
    "print(y[0])"
   ]
  },
  {
   "cell_type": "code",
   "execution_count": 22,
   "id": "8204fb22",
   "metadata": {},
   "outputs": [],
   "source": [
    "def preprocess_tweet(tweet):\n",
    "    if not isinstance(tweet, str):\n",
    "        tweet = str(tweet)\n",
    "    \n",
    "    # Tokenization\n",
    "    tokens = word_tokenize(tweet.lower())\n",
    "    \n",
    "    # Remove stopwords and non-alphabetic characters\n",
    "    stop_words = set(stopwords.words(\"english\"))\n",
    "    tokens = [token for token in tokens if token.isalpha() and token not in stop_words]\n",
    "    \n",
    "    # Stemming\n",
    "    stemmer = PorterStemmer()\n",
    "    stemmed_tokens = [stemmer.stem(token) for token in tokens]\n",
    "    \n",
    "    # Lemmatization\n",
    "    lemmatizer = WordNetLemmatizer()\n",
    "    lemmatized_tokens = [lemmatizer.lemmatize(token) for token in stemmed_tokens]\n",
    "    \n",
    "    return lemmatized_tokens\n",
    "\n",
    "# Apply preprocessing to the 'X' variable\n",
    "X_preprocessed = []\n",
    "for tweet in data['Preprocessed Tweet']:\n",
    "    preprocessed_tokens = preprocess_tweet(tweet)\n",
    "    X_preprocessed.append(preprocessed_tokens)"
   ]
  },
  {
   "cell_type": "code",
   "execution_count": 23,
   "id": "9e659eb9",
   "metadata": {},
   "outputs": [
    {
     "data": {
      "image/png": "[encoded data removed]",
      "text/plain": [
       "<Figure size 720x432 with 1 Axes>"
      ]
     },
     "metadata": {
      "needs_background": "light"
     },
     "output_type": "display_data"
    }
   ],
   "source": [
    "# Combine all preprocessed tweets into a single list of words\n",
    "words = [word for tweet in X_preprocessed for word in tweet]\n",
    "\n",
    "# Get the most common words and their frequencies\n",
    "top_words = Counter(words).most_common(20)\n",
    "\n",
    "# Extract the words and frequencies\n",
    "word_labels = [word for word, frequency in top_words]\n",
    "frequencies = [frequency for word, frequency in top_words]\n",
    "\n",
    "# Create a bar plot\n",
    "plt.figure(figsize=(10, 6))\n",
    "plt.bar(word_labels, frequencies, color='blue')\n",
    "\n",
    "# Customize the plot\n",
    "plt.title('Top 20 Most Common Words')\n",
    "plt.xlabel('Words')\n",
    "plt.ylabel('Frequency')\n",
    "plt.xticks(rotation=45, ha='right')\n",
    "plt.tight_layout()\n",
    "\n",
    "# Display the plot\n",
    "plt.show()"
   ]
  },
  {
   "cell_type": "code",
   "execution_count": 24,
   "id": "522f51b8",
   "metadata": {},
   "outputs": [
    {
     "name": "stdout",
     "output_type": "stream",
     "text": [
      "Total number of unique words: 61537\n"
     ]
    }
   ],
   "source": [
    "# Combine all preprocessed tweets into a single list of words\n",
    "words = [word for tweet in X_preprocessed for word in tweet]\n",
    "\n",
    "# Get the number of unique words\n",
    "unique_words = set(words)\n",
    "total_unique_words = len(unique_words)\n",
    "\n",
    "print(\"Total number of unique words: {}\".format(total_unique_words))"
   ]
  },
  {
   "cell_type": "markdown",
   "id": "08a6b1c4",
   "metadata": {},
   "source": [
    "## Creating A Pipeline to Automate our Model\n",
    "\n",
    "__Data Preprocessing__: The tweet_to_words function is defined to preprocess each tweet by converting it to lowercase, removing non-alphanumeric characters, tokenizing the text into words, removing stopwords, and applying stemming. This step helps to clean and normalize the tweet text for analysis.\n",
    "\n",
    "__Pipeline Construction__: A pipeline is created using the Pipeline class from scikit-learn. The pipeline consists of two steps:\n",
    "a. Preprocessing: The CountVectorizer is used to convert the preprocessed tweet text into numerical features. It tokenizes the text, builds a vocabulary of words, and represents each tweet as a vector of word counts.\n",
    "b. Classification: The LogisticRegression model is used for sentiment classification. It is a binary classification model that learns to predict the sentiment (positive or negative) based on the input features.\n",
    "\n",
    "__Hyperparameter Tuning__: The param_grid dictionary defines the grid of hyperparameters to search over during the grid search. In this case, the hyperparameter being tuned is the regularization parameter C of the logistic regression model. GridSearchCV is used to perform cross-validated grid search and find the best combination of hyperparameters that maximizes the performance metric (accuracy) on the training data.\n",
    "\n",
    "__Train-Test Split__: The original dataset is split into training and testing sets using the train_test_split function. This allows for model training on the training set and evaluation on the testing set to assess the generalization performance.\n",
    "\n",
    "__Grid Search and Model Evaluation__: The grid search is performed by fitting the pipeline with the training data and labels. The grid search explores different combinations of hyperparameters and evaluates the model's performance using cross-validation. The best performing model is selected based on the highest cross-validation score.\n",
    "\n",
    "__Results Reporting__: The code prints the best cross-validation score achieved by the grid search. This score represents the estimated performance of the selected model on unseen data."
   ]
  },
  {
   "cell_type": "code",
   "execution_count": 25,
   "id": "8b79298b",
   "metadata": {},
   "outputs": [
    {
     "name": "stdout",
     "output_type": "stream",
     "text": [
      "Best cross-validation score: 0.86\n"
     ]
    }
   ],
   "source": [
    "# Define the function for tweet preprocessing\n",
    "def tweet_to_words(tweet):\n",
    "    text = tweet.lower()\n",
    "    text = re.sub(r\"[^a-zA-Z0-9]\", \" \", text)\n",
    "    words = word_tokenize(text)\n",
    "    words = [w for w in words if w not in stopwords.words(\"english\")]\n",
    "    words = [PorterStemmer().stem(w) for w in words]\n",
    "    return words\n",
    "\n",
    "# Define the maximum number of words and maximum length for padding\n",
    "max_words = 4000\n",
    "\n",
    "# Create the pipeline\n",
    "pipeline = Pipeline([\n",
    "    ('preprocessing', CountVectorizer(\n",
    "        preprocessor=lambda x: x,\n",
    "        tokenizer=tweet_to_words,\n",
    "        max_features=max_words\n",
    "    )),\n",
    "    ('classification', LogisticRegression(solver='liblinear', max_iter=1000))\n",
    "])\n",
    "\n",
    "# Define the parameter grid\n",
    "param_grid = {\n",
    "    'classification__C': [0.01, 1, 10]\n",
    "}\n",
    "\n",
    "# Split the data into training and testing sets\n",
    "X_train, X_test, y_train, y_test = train_test_split(X, y, test_size=0.2, random_state=1, stratify=y)\n",
    "\n",
    "# Perform grid search\n",
    "grid = GridSearchCV(pipeline, param_grid, cv=5)\n",
    "grid.fit(X_train, y_train)\n",
    "\n",
    "# Print the best cross-validation score\n",
    "print(\"Best cross-validation score: {:.2f}\".format(grid.best_score_))\n"
   ]
  },
  {
   "cell_type": "code",
   "execution_count": 26,
   "id": "705819ca",
   "metadata": {},
   "outputs": [
    {
     "name": "stdout",
     "output_type": "stream",
     "text": [
      "Best parameters:  {'classification__C': 10}\n"
     ]
    }
   ],
   "source": [
    "print(\"Best parameters: \", grid.best_params_)"
   ]
  },
  {
   "cell_type": "code",
   "execution_count": 34,
   "id": "de433e4c",
   "metadata": {},
   "outputs": [
    {
     "name": "stdout",
     "output_type": "stream",
     "text": [
      "Best Test Score:, 0.86\n"
     ]
    }
   ],
   "source": [
    "print(\"Best Test Score:, {:.2f}\".format(grid.score(X_test, y_test)))"
   ]
  },
  {
   "cell_type": "code",
   "execution_count": 31,
   "id": "547b8fd5",
   "metadata": {},
   "outputs": [
    {
     "name": "stdout",
     "output_type": "stream",
     "text": [
      "Accuracy: 0.86\n",
      "Precision: 0.86\n",
      "Recall: 0.86\n",
      "F1 Score: 0.86\n"
     ]
    }
   ],
   "source": [
    "# Get the best model from grid search\n",
    "best_model = grid.best_estimator_\n",
    "\n",
    "# Make predictions on the test set\n",
    "y_pred = best_model.predict(X_test)\n",
    "\n",
    "# Calculate evaluation metrics\n",
    "accuracy = accuracy_score(y_test, y_pred)\n",
    "precision = precision_score(y_test, y_pred, average='weighted')\n",
    "recall = recall_score(y_test, y_pred, average='weighted')\n",
    "f1 = f1_score(y_test, y_pred, average='weighted')\n",
    "\n",
    "# Print the evaluation metrics\n",
    "print(\"Accuracy: {:.2f}\".format(accuracy))\n",
    "print(\"Precision: {:.2f}\".format(precision))\n",
    "print(\"Recall: {:.2f}\".format(recall))\n",
    "print(\"F1 Score: {:.2f}\".format(f1))"
   ]
  },
  {
   "cell_type": "code",
   "execution_count": 33,
   "id": "45e6a881",
   "metadata": {},
   "outputs": [
    {
     "name": "stdout",
     "output_type": "stream",
     "text": [
      "Classification Report:\n",
      "              precision    recall  f1-score   support\n",
      "\n",
      "           0       0.84      0.78      0.81      5264\n",
      "           1       0.89      0.94      0.92      8572\n",
      "           2       0.84      0.83      0.84      5214\n",
      "\n",
      "    accuracy                           0.86     19050\n",
      "   macro avg       0.86      0.85      0.85     19050\n",
      "weighted avg       0.86      0.86      0.86     19050\n",
      "\n"
     ]
    }
   ],
   "source": [
    "# Print the classification report\n",
    "print(\"Classification Report:\")\n",
    "print(classification_report(y_test, y_pred))"
   ]
  },
  {
   "cell_type": "markdown",
   "id": "8690fa9e",
   "metadata": {},
   "source": [
    "The analysis of the classification results reveals that the model achieved an overall accuracy of 86% on the test set. Precision, which measures the proportion of correctly predicted instances within each class, was found to be 84% for class 0. This indicates that the model correctly classified 84% of instances predicted as class 0. The recall, or the proportion of actual instances correctly predicted for each class, was 78% for class 0, implying that the model successfully identified 78% of the true instances of class 0. The F1-score, a balanced measure considering both precision and recall, for class 0 was calculated to be 81%. Similar analyses were conducted for classes 1 and 2.\n",
    "\n",
    "The macro average F1-score, which takes into account equal weighting for each class, was found to be 85%. Additionally, the weighted average F1-score, which considers the number of instances in each class, was determined to be 86%. These metrics provide an overall performance measure, with the weighted average F1-score accounting for class imbalance.\n",
    "\n",
    "the model exhibits promising performance with an accuracy of 86%. The precision, recall, and F1-score values provide a comprehensive evaluation of the model's predictive abilities for individual classes and across all classes. "
   ]
  }
 ],
 "metadata": {
  "kernelspec": {
   "display_name": "Python 3 (ipykernel)",
   "language": "python",
   "name": "python3"
  },
  "language_info": {
   "codemirror_mode": {
    "name": "ipython",
    "version": 3
   },
   "file_extension": ".py",
   "mimetype": "text/x-python",
   "name": "python",
   "nbconvert_exporter": "python",
   "pygments_lexer": "ipython3",
   "version": "3.9.17"
  }
 },
 "nbformat": 4,
 "nbformat_minor": 5
}
